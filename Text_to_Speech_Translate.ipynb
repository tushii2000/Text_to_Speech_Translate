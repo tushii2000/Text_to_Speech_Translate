{
 "cells": [
  {
   "cell_type": "code",
   "execution_count": 22,
   "id": "f20724e7",
   "metadata": {},
   "outputs": [
    {
     "name": "stdout",
     "output_type": "stream",
     "text": [
      "Collecting deep_translatorNote: you may need to restart the kernel to use updated packages.\n",
      "\n",
      "  Obtaining dependency information for deep_translator from https://files.pythonhosted.org/packages/38/3f/61a8ef73236dbea83a1a063a8af2f8e1e41a0df64f122233938391d0f175/deep_translator-1.11.4-py3-none-any.whl.metadata\n",
      "  Downloading deep_translator-1.11.4-py3-none-any.whl.metadata (30 kB)\n",
      "Requirement already satisfied: beautifulsoup4<5.0.0,>=4.9.1 in c:\\users\\tushii\\anaconda3\\lib\\site-packages (from deep_translator) (4.12.2)\n",
      "Requirement already satisfied: requests<3.0.0,>=2.23.0 in c:\\users\\tushii\\anaconda3\\lib\\site-packages (from deep_translator) (2.31.0)\n",
      "Requirement already satisfied: soupsieve>1.2 in c:\\users\\tushii\\anaconda3\\lib\\site-packages (from beautifulsoup4<5.0.0,>=4.9.1->deep_translator) (2.4)\n",
      "Requirement already satisfied: charset-normalizer<4,>=2 in c:\\users\\tushii\\anaconda3\\lib\\site-packages (from requests<3.0.0,>=2.23.0->deep_translator) (2.0.4)\n",
      "Requirement already satisfied: idna<4,>=2.5 in c:\\users\\tushii\\anaconda3\\lib\\site-packages (from requests<3.0.0,>=2.23.0->deep_translator) (2.10)\n",
      "Requirement already satisfied: urllib3<3,>=1.21.1 in c:\\users\\tushii\\anaconda3\\lib\\site-packages (from requests<3.0.0,>=2.23.0->deep_translator) (1.26.16)\n",
      "Requirement already satisfied: certifi>=2017.4.17 in c:\\users\\tushii\\anaconda3\\lib\\site-packages (from requests<3.0.0,>=2.23.0->deep_translator) (2023.7.22)\n",
      "Downloading deep_translator-1.11.4-py3-none-any.whl (42 kB)\n",
      "   ---------------------------------------- 0.0/42.3 kB ? eta -:--:--\n",
      "   ---------------------------------------- 42.3/42.3 kB 2.1 MB/s eta 0:00:00\n",
      "Installing collected packages: deep_translator\n",
      "Successfully installed deep_translator-1.11.4\n"
     ]
    }
   ],
   "source": [
    "pip install deep_translator"
   ]
  },
  {
   "cell_type": "code",
   "execution_count": 24,
   "id": "fab42d0e",
   "metadata": {},
   "outputs": [
    {
     "name": "stdout",
     "output_type": "stream",
     "text": [
      "Enter the text to translate: hi how are you\n",
      "Enter the target languages separated by commas (e.g., fr,es,de): en\n",
      "en: hi how are you\n"
     ]
    }
   ],
   "source": [
    "from deep_translator import GoogleTranslator\n",
    "from gtts import gTTS\n",
    "import os\n",
    "\n",
    "def translate_text(text_to_translate, languages='en'):\n",
    "    for target_language in languages:\n",
    "        Translator = GoogleTranslator(source='auto', target=target_language)\n",
    "        translated_text = Translator.translate(text_to_translate)\n",
    "        print(f\"{target_language}: {translated_text}\")\n",
    "        tts = gTTS(text=translated_text, lang=target_language, slow=False)\n",
    "        tts.save(\"audios.mp3\")\n",
    "        os.system(\"start audios.mp3\")\n",
    "\n",
    "text_to_translate = input(\"Enter the text to translate: \")\n",
    "target_languages = input(\"Enter the target languages separated by commas (e.g., fr,es,de): \").split(',')\n",
    "translate_text(text_to_translate, target_languages)"
   ]
  },
  {
   "cell_type": "code",
   "execution_count": null,
   "id": "b87eab68",
   "metadata": {},
   "outputs": [],
   "source": []
  },
  {
   "cell_type": "code",
   "execution_count": null,
   "id": "3a3aa7a8",
   "metadata": {},
   "outputs": [],
   "source": []
  },
  {
   "cell_type": "code",
   "execution_count": null,
   "id": "62653370",
   "metadata": {},
   "outputs": [],
   "source": []
  }
 ],
 "metadata": {
  "kernelspec": {
   "display_name": "Python 3 (ipykernel)",
   "language": "python",
   "name": "python3"
  },
  "language_info": {
   "codemirror_mode": {
    "name": "ipython",
    "version": 3
   },
   "file_extension": ".py",
   "mimetype": "text/x-python",
   "name": "python",
   "nbconvert_exporter": "python",
   "pygments_lexer": "ipython3",
   "version": "3.11.5"
  }
 },
 "nbformat": 4,
 "nbformat_minor": 5
}
